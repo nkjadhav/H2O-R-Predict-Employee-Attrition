{
 "cells": [
  {
   "cell_type": "markdown",
   "metadata": {},
   "source": [
    "# Employee Attrition using H2O.ai and Lime"
   ]
  },
  {
   "cell_type": "markdown",
   "metadata": {},
   "source": [
    "## Load Libraries"
   ]
  },
  {
   "cell_type": "code",
   "execution_count": 2,
   "metadata": {},
   "outputs": [],
   "source": [
    "# Load the following packages\n",
    "library(tidyquant)  # Loads tidyverse and several other pkgs \n",
    "library(readxl)     # Super simple excel reader\n",
    "library(h2o)        # Professional grade ML pkg\n",
    "library(lime)       # Explain complex black-box ML models"
   ]
  },
  {
   "cell_type": "markdown",
   "metadata": {},
   "source": [
    "## Data Processing"
   ]
  },
  {
   "cell_type": "code",
   "execution_count": 3,
   "metadata": {},
   "outputs": [],
   "source": [
    "# Read excel data\n",
    "hr_data_raw <- read_excel(path = \"WA_Fn-UseC_-HR-Employee-Attrition.xlsx\")"
   ]
  },
  {
   "cell_type": "code",
   "execution_count": 4,
   "metadata": {},
   "outputs": [
    {
     "data": {
      "text/html": [
       "<table>\n",
       "<thead><tr><th scope=col>Age</th><th scope=col>Attrition</th><th scope=col>BusinessTravel</th><th scope=col>DailyRate</th><th scope=col>Department</th><th scope=col>DistanceFromHome</th><th scope=col>Education</th><th scope=col>EducationField</th><th scope=col>EmployeeCount</th><th scope=col>EmployeeNumber</th><th scope=col>...</th><th scope=col>RelationshipSatisfaction</th><th scope=col>StandardHours</th><th scope=col>StockOptionLevel</th><th scope=col>TotalWorkingYears</th><th scope=col>TrainingTimesLastYear</th><th scope=col>WorkLifeBalance</th><th scope=col>YearsAtCompany</th><th scope=col>YearsInCurrentRole</th><th scope=col>YearsSinceLastPromotion</th><th scope=col>YearsWithCurrManager</th></tr></thead>\n",
       "<tbody>\n",
       "\t<tr><td>41                    </td><td>Yes                   </td><td>Travel_Rarely         </td><td>1102                  </td><td>Sales                 </td><td> 1                    </td><td>2                     </td><td>Life Sciences         </td><td>1                     </td><td> 1                    </td><td>...                   </td><td>1                     </td><td>80                    </td><td>0                     </td><td> 8                    </td><td>0                     </td><td>1                     </td><td> 6                    </td><td>4                     </td><td>0                     </td><td>5                     </td></tr>\n",
       "\t<tr><td>49                        </td><td>No                        </td><td>Travel_Frequently         </td><td> 279                      </td><td>Research &amp; Development</td><td> 8                        </td><td>1                         </td><td>Life Sciences             </td><td>1                         </td><td> 2                        </td><td>...                       </td><td>4                         </td><td>80                        </td><td>1                         </td><td>10                        </td><td>3                         </td><td>3                         </td><td>10                        </td><td>7                         </td><td>1                         </td><td>7                         </td></tr>\n",
       "\t<tr><td>37                                                       </td><td>Yes                                                      </td><td><span style=white-space:pre-wrap>Travel_Rarely    </span></td><td>1373                                                     </td><td>Research &amp; Development                               </td><td> 2                                                       </td><td>2                                                        </td><td><span style=white-space:pre-wrap>Other        </span>    </td><td>1                                                        </td><td> 4                                                       </td><td>...                                                      </td><td>2                                                        </td><td>80                                                       </td><td>0                                                        </td><td> 7                                                       </td><td>3                                                        </td><td>3                                                        </td><td> 0                                                       </td><td>0                                                        </td><td>0                                                        </td><td>0                                                        </td></tr>\n",
       "\t<tr><td>33                        </td><td>No                        </td><td>Travel_Frequently         </td><td>1392                      </td><td>Research &amp; Development</td><td> 3                        </td><td>4                         </td><td>Life Sciences             </td><td>1                         </td><td> 5                        </td><td>...                       </td><td>3                         </td><td>80                        </td><td>0                         </td><td> 8                        </td><td>3                         </td><td>3                         </td><td> 8                        </td><td>7                         </td><td>3                         </td><td>0                         </td></tr>\n",
       "\t<tr><td>27                                                       </td><td>No                                                       </td><td><span style=white-space:pre-wrap>Travel_Rarely    </span></td><td> 591                                                     </td><td>Research &amp; Development                               </td><td> 2                                                       </td><td>1                                                        </td><td><span style=white-space:pre-wrap>Medical      </span>    </td><td>1                                                        </td><td> 7                                                       </td><td>...                                                      </td><td>4                                                        </td><td>80                                                       </td><td>1                                                        </td><td> 6                                                       </td><td>3                                                        </td><td>3                                                        </td><td> 2                                                       </td><td>2                                                        </td><td>2                                                        </td><td>2                                                        </td></tr>\n",
       "\t<tr><td>32                        </td><td>No                        </td><td>Travel_Frequently         </td><td>1005                      </td><td>Research &amp; Development</td><td> 2                        </td><td>2                         </td><td>Life Sciences             </td><td>1                         </td><td> 8                        </td><td>...                       </td><td>3                         </td><td>80                        </td><td>0                         </td><td> 8                        </td><td>2                         </td><td>2                         </td><td> 7                        </td><td>7                         </td><td>3                         </td><td>6                         </td></tr>\n",
       "\t<tr><td>59                                                       </td><td>No                                                       </td><td><span style=white-space:pre-wrap>Travel_Rarely    </span></td><td>1324                                                     </td><td>Research &amp; Development                               </td><td> 3                                                       </td><td>3                                                        </td><td><span style=white-space:pre-wrap>Medical      </span>    </td><td>1                                                        </td><td>10                                                       </td><td>...                                                      </td><td>1                                                        </td><td>80                                                       </td><td>3                                                        </td><td>12                                                       </td><td>3                                                        </td><td>2                                                        </td><td> 1                                                       </td><td>0                                                        </td><td>0                                                        </td><td>0                                                        </td></tr>\n",
       "\t<tr><td>30                                                       </td><td>No                                                       </td><td><span style=white-space:pre-wrap>Travel_Rarely    </span></td><td>1358                                                     </td><td>Research &amp; Development                               </td><td>24                                                       </td><td>1                                                        </td><td>Life Sciences                                            </td><td>1                                                        </td><td>11                                                       </td><td>...                                                      </td><td>2                                                        </td><td>80                                                       </td><td>1                                                        </td><td> 1                                                       </td><td>2                                                        </td><td>3                                                        </td><td> 1                                                       </td><td>0                                                        </td><td>0                                                        </td><td>0                                                        </td></tr>\n",
       "\t<tr><td>38                        </td><td>No                        </td><td>Travel_Frequently         </td><td> 216                      </td><td>Research &amp; Development</td><td>23                        </td><td>3                         </td><td>Life Sciences             </td><td>1                         </td><td>12                        </td><td>...                       </td><td>2                         </td><td>80                        </td><td>0                         </td><td>10                        </td><td>2                         </td><td>3                         </td><td> 9                        </td><td>7                         </td><td>1                         </td><td>8                         </td></tr>\n",
       "\t<tr><td>36                                                       </td><td>No                                                       </td><td><span style=white-space:pre-wrap>Travel_Rarely    </span></td><td>1299                                                     </td><td>Research &amp; Development                               </td><td>27                                                       </td><td>3                                                        </td><td><span style=white-space:pre-wrap>Medical      </span>    </td><td>1                                                        </td><td>13                                                       </td><td>...                                                      </td><td>2                                                        </td><td>80                                                       </td><td>2                                                        </td><td>17                                                       </td><td>3                                                        </td><td>2                                                        </td><td> 7                                                       </td><td>7                                                        </td><td>7                                                        </td><td>7                                                        </td></tr>\n",
       "</tbody>\n",
       "</table>\n"
      ],
      "text/latex": [
       "\\begin{tabular}{r|lllllllllllllllllllllllllllllllllll}\n",
       " Age & Attrition & BusinessTravel & DailyRate & Department & DistanceFromHome & Education & EducationField & EmployeeCount & EmployeeNumber & ... & RelationshipSatisfaction & StandardHours & StockOptionLevel & TotalWorkingYears & TrainingTimesLastYear & WorkLifeBalance & YearsAtCompany & YearsInCurrentRole & YearsSinceLastPromotion & YearsWithCurrManager\\\\\n",
       "\\hline\n",
       "\t 41                     & Yes                    & Travel\\_Rarely        & 1102                   & Sales                  &  1                     & 2                      & Life Sciences          & 1                      &  1                     & ...                    & 1                      & 80                     & 0                      &  8                     & 0                      & 1                      &  6                     & 4                      & 0                      & 5                     \\\\\n",
       "\t 49                       & No                       & Travel\\_Frequently      &  279                     & Research \\& Development &  8                       & 1                        & Life Sciences            & 1                        &  2                       & ...                      & 4                        & 80                       & 1                        & 10                       & 3                        & 3                        & 10                       & 7                        & 1                        & 7                       \\\\\n",
       "\t 37                       & Yes                      & Travel\\_Rarely          & 1373                     & Research \\& Development &  2                       & 2                        & Other                    & 1                        &  4                       & ...                      & 2                        & 80                       & 0                        &  7                       & 3                        & 3                        &  0                       & 0                        & 0                        & 0                       \\\\\n",
       "\t 33                       & No                       & Travel\\_Frequently      & 1392                     & Research \\& Development &  3                       & 4                        & Life Sciences            & 1                        &  5                       & ...                      & 3                        & 80                       & 0                        &  8                       & 3                        & 3                        &  8                       & 7                        & 3                        & 0                       \\\\\n",
       "\t 27                       & No                       & Travel\\_Rarely          &  591                     & Research \\& Development &  2                       & 1                        & Medical                  & 1                        &  7                       & ...                      & 4                        & 80                       & 1                        &  6                       & 3                        & 3                        &  2                       & 2                        & 2                        & 2                       \\\\\n",
       "\t 32                       & No                       & Travel\\_Frequently      & 1005                     & Research \\& Development &  2                       & 2                        & Life Sciences            & 1                        &  8                       & ...                      & 3                        & 80                       & 0                        &  8                       & 2                        & 2                        &  7                       & 7                        & 3                        & 6                       \\\\\n",
       "\t 59                       & No                       & Travel\\_Rarely          & 1324                     & Research \\& Development &  3                       & 3                        & Medical                  & 1                        & 10                       & ...                      & 1                        & 80                       & 3                        & 12                       & 3                        & 2                        &  1                       & 0                        & 0                        & 0                       \\\\\n",
       "\t 30                       & No                       & Travel\\_Rarely          & 1358                     & Research \\& Development & 24                       & 1                        & Life Sciences            & 1                        & 11                       & ...                      & 2                        & 80                       & 1                        &  1                       & 2                        & 3                        &  1                       & 0                        & 0                        & 0                       \\\\\n",
       "\t 38                       & No                       & Travel\\_Frequently      &  216                     & Research \\& Development & 23                       & 3                        & Life Sciences            & 1                        & 12                       & ...                      & 2                        & 80                       & 0                        & 10                       & 2                        & 3                        &  9                       & 7                        & 1                        & 8                       \\\\\n",
       "\t 36                       & No                       & Travel\\_Rarely          & 1299                     & Research \\& Development & 27                       & 3                        & Medical                  & 1                        & 13                       & ...                      & 2                        & 80                       & 2                        & 17                       & 3                        & 2                        &  7                       & 7                        & 7                        & 7                       \\\\\n",
       "\\end{tabular}\n"
      ],
      "text/markdown": [
       "\n",
       "Age | Attrition | BusinessTravel | DailyRate | Department | DistanceFromHome | Education | EducationField | EmployeeCount | EmployeeNumber | ... | RelationshipSatisfaction | StandardHours | StockOptionLevel | TotalWorkingYears | TrainingTimesLastYear | WorkLifeBalance | YearsAtCompany | YearsInCurrentRole | YearsSinceLastPromotion | YearsWithCurrManager | \n",
       "|---|---|---|---|---|---|---|---|---|---|\n",
       "| 41                     | Yes                    | Travel_Rarely          | 1102                   | Sales                  |  1                     | 2                      | Life Sciences          | 1                      |  1                     | ...                    | 1                      | 80                     | 0                      |  8                     | 0                      | 1                      |  6                     | 4                      | 0                      | 5                      | \n",
       "| 49                     | No                     | Travel_Frequently      |  279                   | Research & Development |  8                     | 1                      | Life Sciences          | 1                      |  2                     | ...                    | 4                      | 80                     | 1                      | 10                     | 3                      | 3                      | 10                     | 7                      | 1                      | 7                      | \n",
       "| 37                     | Yes                    | Travel_Rarely          | 1373                   | Research & Development |  2                     | 2                      | Other                  | 1                      |  4                     | ...                    | 2                      | 80                     | 0                      |  7                     | 3                      | 3                      |  0                     | 0                      | 0                      | 0                      | \n",
       "| 33                     | No                     | Travel_Frequently      | 1392                   | Research & Development |  3                     | 4                      | Life Sciences          | 1                      |  5                     | ...                    | 3                      | 80                     | 0                      |  8                     | 3                      | 3                      |  8                     | 7                      | 3                      | 0                      | \n",
       "| 27                     | No                     | Travel_Rarely          |  591                   | Research & Development |  2                     | 1                      | Medical                | 1                      |  7                     | ...                    | 4                      | 80                     | 1                      |  6                     | 3                      | 3                      |  2                     | 2                      | 2                      | 2                      | \n",
       "| 32                     | No                     | Travel_Frequently      | 1005                   | Research & Development |  2                     | 2                      | Life Sciences          | 1                      |  8                     | ...                    | 3                      | 80                     | 0                      |  8                     | 2                      | 2                      |  7                     | 7                      | 3                      | 6                      | \n",
       "| 59                     | No                     | Travel_Rarely          | 1324                   | Research & Development |  3                     | 3                      | Medical                | 1                      | 10                     | ...                    | 1                      | 80                     | 3                      | 12                     | 3                      | 2                      |  1                     | 0                      | 0                      | 0                      | \n",
       "| 30                     | No                     | Travel_Rarely          | 1358                   | Research & Development | 24                     | 1                      | Life Sciences          | 1                      | 11                     | ...                    | 2                      | 80                     | 1                      |  1                     | 2                      | 3                      |  1                     | 0                      | 0                      | 0                      | \n",
       "| 38                     | No                     | Travel_Frequently      |  216                   | Research & Development | 23                     | 3                      | Life Sciences          | 1                      | 12                     | ...                    | 2                      | 80                     | 0                      | 10                     | 2                      | 3                      |  9                     | 7                      | 1                      | 8                      | \n",
       "| 36                     | No                     | Travel_Rarely          | 1299                   | Research & Development | 27                     | 3                      | Medical                | 1                      | 13                     | ...                    | 2                      | 80                     | 2                      | 17                     | 3                      | 2                      |  7                     | 7                      | 7                      | 7                      | \n",
       "\n",
       "\n"
      ],
      "text/plain": [
       "   Age Attrition BusinessTravel    DailyRate Department            \n",
       "1  41  Yes       Travel_Rarely     1102      Sales                 \n",
       "2  49  No        Travel_Frequently  279      Research & Development\n",
       "3  37  Yes       Travel_Rarely     1373      Research & Development\n",
       "4  33  No        Travel_Frequently 1392      Research & Development\n",
       "5  27  No        Travel_Rarely      591      Research & Development\n",
       "6  32  No        Travel_Frequently 1005      Research & Development\n",
       "7  59  No        Travel_Rarely     1324      Research & Development\n",
       "8  30  No        Travel_Rarely     1358      Research & Development\n",
       "9  38  No        Travel_Frequently  216      Research & Development\n",
       "10 36  No        Travel_Rarely     1299      Research & Development\n",
       "   DistanceFromHome Education EducationField EmployeeCount EmployeeNumber ...\n",
       "1   1               2         Life Sciences  1              1             ...\n",
       "2   8               1         Life Sciences  1              2             ...\n",
       "3   2               2         Other          1              4             ...\n",
       "4   3               4         Life Sciences  1              5             ...\n",
       "5   2               1         Medical        1              7             ...\n",
       "6   2               2         Life Sciences  1              8             ...\n",
       "7   3               3         Medical        1             10             ...\n",
       "8  24               1         Life Sciences  1             11             ...\n",
       "9  23               3         Life Sciences  1             12             ...\n",
       "10 27               3         Medical        1             13             ...\n",
       "   RelationshipSatisfaction StandardHours StockOptionLevel TotalWorkingYears\n",
       "1  1                        80            0                 8               \n",
       "2  4                        80            1                10               \n",
       "3  2                        80            0                 7               \n",
       "4  3                        80            0                 8               \n",
       "5  4                        80            1                 6               \n",
       "6  3                        80            0                 8               \n",
       "7  1                        80            3                12               \n",
       "8  2                        80            1                 1               \n",
       "9  2                        80            0                10               \n",
       "10 2                        80            2                17               \n",
       "   TrainingTimesLastYear WorkLifeBalance YearsAtCompany YearsInCurrentRole\n",
       "1  0                     1                6             4                 \n",
       "2  3                     3               10             7                 \n",
       "3  3                     3                0             0                 \n",
       "4  3                     3                8             7                 \n",
       "5  3                     3                2             2                 \n",
       "6  2                     2                7             7                 \n",
       "7  3                     2                1             0                 \n",
       "8  2                     3                1             0                 \n",
       "9  2                     3                9             7                 \n",
       "10 3                     2                7             7                 \n",
       "   YearsSinceLastPromotion YearsWithCurrManager\n",
       "1  0                       5                   \n",
       "2  1                       7                   \n",
       "3  0                       0                   \n",
       "4  3                       0                   \n",
       "5  2                       2                   \n",
       "6  3                       6                   \n",
       "7  0                       0                   \n",
       "8  0                       0                   \n",
       "9  1                       8                   \n",
       "10 7                       7                   "
      ]
     },
     "metadata": {},
     "output_type": "display_data"
    }
   ],
   "source": [
    "# View first 10 rows\n",
    "hr_data_raw[1:10,]"
   ]
  },
  {
   "cell_type": "code",
   "execution_count": 5,
   "metadata": {},
   "outputs": [],
   "source": [
    "hr_data <- hr_data_raw %>%\n",
    "    mutate_if(is.character, as.factor) %>%\n",
    "    select(Attrition, everything())"
   ]
  },
  {
   "cell_type": "code",
   "execution_count": 6,
   "metadata": {},
   "outputs": [
    {
     "name": "stdout",
     "output_type": "stream",
     "text": [
      "Observations: 1,470\n",
      "Variables: 35\n",
      "$ Attrition                <fct> Yes, No, Yes, No, No, No, No, No, No, No, ...\n",
      "$ Age                      <dbl> 41, 49, 37, 33, 27, 32, 59, 30, 38, 36, 35...\n",
      "$ BusinessTravel           <fct> Travel_Rarely, Travel_Frequently, Travel_R...\n",
      "$ DailyRate                <dbl> 1102, 279, 1373, 1392, 591, 1005, 1324, 13...\n",
      "$ Department               <fct> Sales, Research & Development, Research & ...\n",
      "$ DistanceFromHome         <dbl> 1, 8, 2, 3, 2, 2, 3, 24, 23, 27, 16, 15, 2...\n",
      "$ Education                <dbl> 2, 1, 2, 4, 1, 2, 3, 1, 3, 3, 3, 2, 1, 2, ...\n",
      "$ EducationField           <fct> Life Sciences, Life Sciences, Other, Life ...\n",
      "$ EmployeeCount            <dbl> 1, 1, 1, 1, 1, 1, 1, 1, 1, 1, 1, 1, 1, 1, ...\n",
      "$ EmployeeNumber           <dbl> 1, 2, 4, 5, 7, 8, 10, 11, 12, 13, 14, 15, ...\n",
      "$ EnvironmentSatisfaction  <dbl> 2, 3, 4, 4, 1, 4, 3, 4, 4, 3, 1, 4, 1, 2, ...\n",
      "$ Gender                   <fct> Female, Male, Male, Female, Male, Male, Fe...\n",
      "$ HourlyRate               <dbl> 94, 61, 92, 56, 40, 79, 81, 67, 44, 94, 84...\n",
      "$ JobInvolvement           <dbl> 3, 2, 2, 3, 3, 3, 4, 3, 2, 3, 4, 2, 3, 3, ...\n",
      "$ JobLevel                 <dbl> 2, 2, 1, 1, 1, 1, 1, 1, 3, 2, 1, 2, 1, 1, ...\n",
      "$ JobRole                  <fct> Sales Executive, Research Scientist, Labor...\n",
      "$ JobSatisfaction          <dbl> 4, 2, 3, 3, 2, 4, 1, 3, 3, 3, 2, 3, 3, 4, ...\n",
      "$ MaritalStatus            <fct> Single, Married, Single, Married, Married,...\n",
      "$ MonthlyIncome            <dbl> 5993, 5130, 2090, 2909, 3468, 3068, 2670, ...\n",
      "$ MonthlyRate              <dbl> 19479, 24907, 2396, 23159, 16632, 11864, 9...\n",
      "$ NumCompaniesWorked       <dbl> 8, 1, 6, 1, 9, 0, 4, 1, 0, 6, 0, 0, 1, 0, ...\n",
      "$ Over18                   <fct> Y, Y, Y, Y, Y, Y, Y, Y, Y, Y, Y, Y, Y, Y, ...\n",
      "$ OverTime                 <fct> Yes, No, Yes, Yes, No, No, Yes, No, No, No...\n",
      "$ PercentSalaryHike        <dbl> 11, 23, 15, 11, 12, 13, 20, 22, 21, 13, 13...\n",
      "$ PerformanceRating        <dbl> 3, 4, 3, 3, 3, 3, 4, 4, 4, 3, 3, 3, 3, 3, ...\n",
      "$ RelationshipSatisfaction <dbl> 1, 4, 2, 3, 4, 3, 1, 2, 2, 2, 3, 4, 4, 3, ...\n",
      "$ StandardHours            <dbl> 80, 80, 80, 80, 80, 80, 80, 80, 80, 80, 80...\n",
      "$ StockOptionLevel         <dbl> 0, 1, 0, 0, 1, 0, 3, 1, 0, 2, 1, 0, 1, 1, ...\n",
      "$ TotalWorkingYears        <dbl> 8, 10, 7, 8, 6, 8, 12, 1, 10, 17, 6, 10, 5...\n",
      "$ TrainingTimesLastYear    <dbl> 0, 3, 3, 3, 3, 2, 3, 2, 2, 3, 5, 3, 1, 2, ...\n",
      "$ WorkLifeBalance          <dbl> 1, 3, 3, 3, 3, 2, 2, 3, 3, 2, 3, 3, 2, 3, ...\n",
      "$ YearsAtCompany           <dbl> 6, 10, 0, 8, 2, 7, 1, 1, 9, 7, 5, 9, 5, 2,...\n",
      "$ YearsInCurrentRole       <dbl> 4, 7, 0, 7, 2, 7, 0, 0, 7, 7, 4, 5, 2, 2, ...\n",
      "$ YearsSinceLastPromotion  <dbl> 0, 1, 0, 3, 2, 3, 0, 0, 1, 7, 0, 0, 4, 1, ...\n",
      "$ YearsWithCurrManager     <dbl> 5, 7, 0, 0, 2, 6, 0, 0, 8, 7, 3, 8, 3, 2, ...\n"
     ]
    }
   ],
   "source": [
    "glimpse(hr_data)"
   ]
  },
  {
   "cell_type": "markdown",
   "metadata": {},
   "source": [
    "## Modeling Employee Attrition\n",
    "    Here, by using the h2o.automl() function from the H2O platform we model employee attrition.\n",
    "    First, initialize the Java Virtual Machine (JVM) that H2O uses locally."
   ]
  },
  {
   "cell_type": "code",
   "execution_count": 7,
   "metadata": {},
   "outputs": [
    {
     "name": "stdout",
     "output_type": "stream",
     "text": [
      "\n",
      "H2O is not running yet, starting it now...\n",
      "\n",
      "Note:  In case of errors look at the following log files:\n",
      "    C:\\Users\\NILKAN~1\\AppData\\Local\\Temp\\Rtmpq8qERK/h2o_Nilkanth_Jadhav_started_from_r.out\n",
      "    C:\\Users\\NILKAN~1\\AppData\\Local\\Temp\\Rtmpq8qERK/h2o_Nilkanth_Jadhav_started_from_r.err\n",
      "\n",
      "\n",
      "Starting H2O JVM and connecting: ... Connection successful!\n",
      "\n",
      "R is connected to the H2O cluster: \n",
      "    H2O cluster uptime:         19 seconds 310 milliseconds \n",
      "    H2O cluster timezone:       Asia/Kolkata \n",
      "    H2O data parsing timezone:  UTC \n",
      "    H2O cluster version:        3.20.0.9 \n",
      "    H2O cluster version age:    10 days  \n",
      "    H2O cluster name:           H2O_started_from_R_Nilkanth_Jadhav_qfb796 \n",
      "    H2O cluster total nodes:    1 \n",
      "    H2O cluster total memory:   1.74 GB \n",
      "    H2O cluster total cores:    4 \n",
      "    H2O cluster allowed cores:  4 \n",
      "    H2O cluster healthy:        TRUE \n",
      "    H2O Connection ip:          localhost \n",
      "    H2O Connection port:        54321 \n",
      "    H2O Connection proxy:       NA \n",
      "    H2O Internal Security:      FALSE \n",
      "    H2O API Extensions:         Algos, AutoML, Core V3, Core V4 \n",
      "    R Version:                  R version 3.5.1 (2018-07-02) \n",
      "\n"
     ]
    }
   ],
   "source": [
    "# Initialize H2O JVM\n",
    "\n",
    "h2o.init()"
   ]
  },
  {
   "cell_type": "code",
   "execution_count": 8,
   "metadata": {},
   "outputs": [
    {
     "name": "stdout",
     "output_type": "stream",
     "text": [
      "  |======================================================================| 100%\n"
     ]
    }
   ],
   "source": [
    "#h2o.no_progress()  # Turn off output of progress bars\n",
    "\n",
    "# Next, change the data to an h2o object that the package can interpret.  Also\n",
    "# split the data into training, validation, and test sets - 70%, 15%, 15%,\n",
    "# respectively.\n",
    "\n",
    "# Split data into Train/Validation/Test Sets\n",
    "\n",
    "hr_data_h2o <- as.h2o(hr_data)\n",
    "\n",
    "split_h2o <- h2o.splitFrame(hr_data_h2o, c(0.7, 0.15), seed = 1234)\n",
    "\n",
    "train_h2o <- h2o.assign(split_h2o[[1]], \"train\")  # 70%\n",
    "valid_h2o <- h2o.assign(split_h2o[[2]], \"valid\")  # 15%\n",
    "test_h2o <- h2o.assign(split_h2o[[3]], \"test\")  # 15%"
   ]
  },
  {
   "cell_type": "code",
   "execution_count": 9,
   "metadata": {},
   "outputs": [],
   "source": [
    "# for building the model, set the target and feature names.\n",
    "# The target is what we aim to predict (in this case “Attrition”).\n",
    "# The features (every other column) are what we will use to model the prediction.\n",
    "\n",
    "# Set names for h2o\n",
    "y <- \"Attrition\"\n",
    "x <- setdiff(names(train_h2o), y)"
   ]
  },
  {
   "cell_type": "markdown",
   "metadata": {},
   "source": [
    "To run the h2o.automl() setting the arguments it needs to run models against.\n",
    "\n",
    "- x = x: The names of our feature columns.\n",
    "- y = y: The name of our target column.\n",
    "- training_frame = train_h2o: Our training set consisting of 70% of the data.\n",
    "- leaderboard_frame = valid_h2o: Our validation set consisting of 15% of the data. H2O uses this to ensure the model does not overfit the data.\n",
    "- max_runtime_secs = 30: We supply this to speed up H2O’s modeling. The algorithm has a large number of complex models so we want to keep things moving at the expense of some accuracy.\n"
   ]
  },
  {
   "cell_type": "code",
   "execution_count": 10,
   "metadata": {},
   "outputs": [
    {
     "name": "stdout",
     "output_type": "stream",
     "text": [
      "  |======================================================================| 100%\n"
     ]
    }
   ],
   "source": [
    "# Run the automated machine learning \n",
    "automl_models_h2o <- h2o.automl(\n",
    "    x = x, \n",
    "    y = y,\n",
    "    training_frame    = train_h2o,\n",
    "    leaderboard_frame = valid_h2o,\n",
    "    max_runtime_secs  = 30\n",
    "    )"
   ]
  },
  {
   "cell_type": "markdown",
   "metadata": {},
   "source": [
    "All of the models are stored the automl_models_h2o object. However, we are only concerned with the leader, which is the best model in terms of accuracy on the validation set. We’ll extract it from the models object."
   ]
  },
  {
   "cell_type": "code",
   "execution_count": 11,
   "metadata": {},
   "outputs": [],
   "source": [
    "# Extract leader model\n",
    "automl_leader <- automl_models_h2o@leader"
   ]
  },
  {
   "cell_type": "markdown",
   "metadata": {},
   "source": [
    "## Predict using best model"
   ]
  },
  {
   "cell_type": "code",
   "execution_count": 12,
   "metadata": {},
   "outputs": [
    {
     "name": "stdout",
     "output_type": "stream",
     "text": [
      "  |======================================================================| 100%\n"
     ]
    }
   ],
   "source": [
    "# Predict on hold-out set, test_h2o\n",
    "pred_h2o <- h2o.predict(object = automl_leader, newdata = test_h2o)"
   ]
  },
  {
   "cell_type": "markdown",
   "metadata": {},
   "source": [
    "## Performance of model"
   ]
  },
  {
   "cell_type": "code",
   "execution_count": 13,
   "metadata": {},
   "outputs": [
    {
     "data": {
      "text/html": [
       "<table>\n",
       "<thead><tr><th scope=col>Attrition</th><th scope=col>pred</th></tr></thead>\n",
       "<tbody>\n",
       "\t<tr><td>No </td><td>No </td></tr>\n",
       "\t<tr><td>No </td><td>No </td></tr>\n",
       "\t<tr><td>Yes</td><td>Yes</td></tr>\n",
       "\t<tr><td>No </td><td>No </td></tr>\n",
       "\t<tr><td>No </td><td>No </td></tr>\n",
       "\t<tr><td>No </td><td>No </td></tr>\n",
       "\t<tr><td>Yes</td><td>Yes</td></tr>\n",
       "\t<tr><td>No </td><td>No </td></tr>\n",
       "\t<tr><td>No </td><td>No </td></tr>\n",
       "\t<tr><td>Yes</td><td>Yes</td></tr>\n",
       "\t<tr><td>No </td><td>Yes</td></tr>\n",
       "\t<tr><td>No </td><td>No </td></tr>\n",
       "\t<tr><td>Yes</td><td>Yes</td></tr>\n",
       "\t<tr><td>No </td><td>No </td></tr>\n",
       "\t<tr><td>No </td><td>No </td></tr>\n",
       "\t<tr><td>No </td><td>No </td></tr>\n",
       "\t<tr><td>No </td><td>No </td></tr>\n",
       "\t<tr><td>No </td><td>No </td></tr>\n",
       "\t<tr><td>No </td><td>No </td></tr>\n",
       "\t<tr><td>No </td><td>No </td></tr>\n",
       "\t<tr><td>No </td><td>No </td></tr>\n",
       "\t<tr><td>No </td><td>Yes</td></tr>\n",
       "\t<tr><td>No </td><td>No </td></tr>\n",
       "\t<tr><td>No </td><td>No </td></tr>\n",
       "\t<tr><td>No </td><td>No </td></tr>\n",
       "\t<tr><td>No </td><td>No </td></tr>\n",
       "\t<tr><td>No </td><td>No </td></tr>\n",
       "\t<tr><td>No </td><td>No </td></tr>\n",
       "\t<tr><td>No </td><td>No </td></tr>\n",
       "\t<tr><td>Yes</td><td>Yes</td></tr>\n",
       "\t<tr><td>...</td><td>...</td></tr>\n",
       "\t<tr><td>No </td><td>No </td></tr>\n",
       "\t<tr><td>No </td><td>No </td></tr>\n",
       "\t<tr><td>No </td><td>No </td></tr>\n",
       "\t<tr><td>No </td><td>No </td></tr>\n",
       "\t<tr><td>No </td><td>No </td></tr>\n",
       "\t<tr><td>No </td><td>No </td></tr>\n",
       "\t<tr><td>No </td><td>No </td></tr>\n",
       "\t<tr><td>No </td><td>No </td></tr>\n",
       "\t<tr><td>No </td><td>No </td></tr>\n",
       "\t<tr><td>No </td><td>No </td></tr>\n",
       "\t<tr><td>No </td><td>No </td></tr>\n",
       "\t<tr><td>No </td><td>No </td></tr>\n",
       "\t<tr><td>No </td><td>No </td></tr>\n",
       "\t<tr><td>No </td><td>No </td></tr>\n",
       "\t<tr><td>No </td><td>Yes</td></tr>\n",
       "\t<tr><td>No </td><td>No </td></tr>\n",
       "\t<tr><td>No </td><td>No </td></tr>\n",
       "\t<tr><td>No </td><td>No </td></tr>\n",
       "\t<tr><td>No </td><td>No </td></tr>\n",
       "\t<tr><td>No </td><td>Yes</td></tr>\n",
       "\t<tr><td>No </td><td>No </td></tr>\n",
       "\t<tr><td>No </td><td>No </td></tr>\n",
       "\t<tr><td>No </td><td>No </td></tr>\n",
       "\t<tr><td>No </td><td>No </td></tr>\n",
       "\t<tr><td>No </td><td>No </td></tr>\n",
       "\t<tr><td>No </td><td>No </td></tr>\n",
       "\t<tr><td>No </td><td>No </td></tr>\n",
       "\t<tr><td>No </td><td>No </td></tr>\n",
       "\t<tr><td>No </td><td>No </td></tr>\n",
       "\t<tr><td>No </td><td>No </td></tr>\n",
       "</tbody>\n",
       "</table>\n"
      ],
      "text/latex": [
       "\\begin{tabular}{r|ll}\n",
       " Attrition & pred\\\\\n",
       "\\hline\n",
       "\t No  & No \\\\\n",
       "\t No  & No \\\\\n",
       "\t Yes & Yes\\\\\n",
       "\t No  & No \\\\\n",
       "\t No  & No \\\\\n",
       "\t No  & No \\\\\n",
       "\t Yes & Yes\\\\\n",
       "\t No  & No \\\\\n",
       "\t No  & No \\\\\n",
       "\t Yes & Yes\\\\\n",
       "\t No  & Yes\\\\\n",
       "\t No  & No \\\\\n",
       "\t Yes & Yes\\\\\n",
       "\t No  & No \\\\\n",
       "\t No  & No \\\\\n",
       "\t No  & No \\\\\n",
       "\t No  & No \\\\\n",
       "\t No  & No \\\\\n",
       "\t No  & No \\\\\n",
       "\t No  & No \\\\\n",
       "\t No  & No \\\\\n",
       "\t No  & Yes\\\\\n",
       "\t No  & No \\\\\n",
       "\t No  & No \\\\\n",
       "\t No  & No \\\\\n",
       "\t No  & No \\\\\n",
       "\t No  & No \\\\\n",
       "\t No  & No \\\\\n",
       "\t No  & No \\\\\n",
       "\t Yes & Yes\\\\\n",
       "\t ... & ...\\\\\n",
       "\t No  & No \\\\\n",
       "\t No  & No \\\\\n",
       "\t No  & No \\\\\n",
       "\t No  & No \\\\\n",
       "\t No  & No \\\\\n",
       "\t No  & No \\\\\n",
       "\t No  & No \\\\\n",
       "\t No  & No \\\\\n",
       "\t No  & No \\\\\n",
       "\t No  & No \\\\\n",
       "\t No  & No \\\\\n",
       "\t No  & No \\\\\n",
       "\t No  & No \\\\\n",
       "\t No  & No \\\\\n",
       "\t No  & Yes\\\\\n",
       "\t No  & No \\\\\n",
       "\t No  & No \\\\\n",
       "\t No  & No \\\\\n",
       "\t No  & No \\\\\n",
       "\t No  & Yes\\\\\n",
       "\t No  & No \\\\\n",
       "\t No  & No \\\\\n",
       "\t No  & No \\\\\n",
       "\t No  & No \\\\\n",
       "\t No  & No \\\\\n",
       "\t No  & No \\\\\n",
       "\t No  & No \\\\\n",
       "\t No  & No \\\\\n",
       "\t No  & No \\\\\n",
       "\t No  & No \\\\\n",
       "\\end{tabular}\n"
      ],
      "text/markdown": [
       "\n",
       "Attrition | pred | \n",
       "|---|---|---|---|---|---|---|---|---|---|---|---|---|---|---|---|---|---|---|---|---|---|---|---|---|---|---|---|---|---|---|---|---|---|---|---|---|---|---|---|---|---|---|---|---|---|---|---|---|---|---|---|---|---|---|---|---|---|---|---|---|\n",
       "| No  | No  | \n",
       "| No  | No  | \n",
       "| Yes | Yes | \n",
       "| No  | No  | \n",
       "| No  | No  | \n",
       "| No  | No  | \n",
       "| Yes | Yes | \n",
       "| No  | No  | \n",
       "| No  | No  | \n",
       "| Yes | Yes | \n",
       "| No  | Yes | \n",
       "| No  | No  | \n",
       "| Yes | Yes | \n",
       "| No  | No  | \n",
       "| No  | No  | \n",
       "| No  | No  | \n",
       "| No  | No  | \n",
       "| No  | No  | \n",
       "| No  | No  | \n",
       "| No  | No  | \n",
       "| No  | No  | \n",
       "| No  | Yes | \n",
       "| No  | No  | \n",
       "| No  | No  | \n",
       "| No  | No  | \n",
       "| No  | No  | \n",
       "| No  | No  | \n",
       "| No  | No  | \n",
       "| No  | No  | \n",
       "| Yes | Yes | \n",
       "| ... | ... | \n",
       "| No  | No  | \n",
       "| No  | No  | \n",
       "| No  | No  | \n",
       "| No  | No  | \n",
       "| No  | No  | \n",
       "| No  | No  | \n",
       "| No  | No  | \n",
       "| No  | No  | \n",
       "| No  | No  | \n",
       "| No  | No  | \n",
       "| No  | No  | \n",
       "| No  | No  | \n",
       "| No  | No  | \n",
       "| No  | No  | \n",
       "| No  | Yes | \n",
       "| No  | No  | \n",
       "| No  | No  | \n",
       "| No  | No  | \n",
       "| No  | No  | \n",
       "| No  | Yes | \n",
       "| No  | No  | \n",
       "| No  | No  | \n",
       "| No  | No  | \n",
       "| No  | No  | \n",
       "| No  | No  | \n",
       "| No  | No  | \n",
       "| No  | No  | \n",
       "| No  | No  | \n",
       "| No  | No  | \n",
       "| No  | No  | \n",
       "\n",
       "\n"
      ],
      "text/plain": [
       "    Attrition pred\n",
       "1   No        No  \n",
       "2   No        No  \n",
       "3   Yes       Yes \n",
       "4   No        No  \n",
       "5   No        No  \n",
       "6   No        No  \n",
       "7   Yes       Yes \n",
       "8   No        No  \n",
       "9   No        No  \n",
       "10  Yes       Yes \n",
       "11  No        Yes \n",
       "12  No        No  \n",
       "13  Yes       Yes \n",
       "14  No        No  \n",
       "15  No        No  \n",
       "16  No        No  \n",
       "17  No        No  \n",
       "18  No        No  \n",
       "19  No        No  \n",
       "20  No        No  \n",
       "21  No        No  \n",
       "22  No        Yes \n",
       "23  No        No  \n",
       "24  No        No  \n",
       "25  No        No  \n",
       "26  No        No  \n",
       "27  No        No  \n",
       "28  No        No  \n",
       "29  No        No  \n",
       "30  Yes       Yes \n",
       "... ...       ... \n",
       "182 No        No  \n",
       "183 No        No  \n",
       "184 No        No  \n",
       "185 No        No  \n",
       "186 No        No  \n",
       "187 No        No  \n",
       "188 No        No  \n",
       "189 No        No  \n",
       "190 No        No  \n",
       "191 No        No  \n",
       "192 No        No  \n",
       "193 No        No  \n",
       "194 No        No  \n",
       "195 No        No  \n",
       "196 No        Yes \n",
       "197 No        No  \n",
       "198 No        No  \n",
       "199 No        No  \n",
       "200 No        No  \n",
       "201 No        Yes \n",
       "202 No        No  \n",
       "203 No        No  \n",
       "204 No        No  \n",
       "205 No        No  \n",
       "206 No        No  \n",
       "207 No        No  \n",
       "208 No        No  \n",
       "209 No        No  \n",
       "210 No        No  \n",
       "211 No        No  "
      ]
     },
     "metadata": {},
     "output_type": "display_data"
    }
   ],
   "source": [
    "# Prep for performance assessment\n",
    "test_performance <- test_h2o %>%\n",
    "    tibble::as_tibble() %>%\n",
    "    select(Attrition) %>%\n",
    "    add_column(pred = as.vector(pred_h2o$predict)) %>%\n",
    "    mutate_if(is.character, as.factor)\n",
    "test_performance"
   ]
  },
  {
   "cell_type": "code",
   "execution_count": 14,
   "metadata": {},
   "outputs": [
    {
     "data": {
      "text/plain": [
       "         pred\n",
       "Attrition  No Yes\n",
       "      No  163  19\n",
       "      Yes  12  17"
      ]
     },
     "metadata": {},
     "output_type": "display_data"
    }
   ],
   "source": [
    "# Confusion table counts\n",
    "confusion_matrix <- test_performance %>%\n",
    "    table() \n",
    "confusion_matrix"
   ]
  },
  {
   "cell_type": "code",
   "execution_count": 25,
   "metadata": {},
   "outputs": [
    {
     "data": {
      "text/html": [
       "<ol>\n",
       "\t<li><dl>\n",
       "\t<dt>$accuracy</dt>\n",
       "\t\t<dd>0.853080568720379</dd>\n",
       "\t<dt>$misclassification_rate</dt>\n",
       "\t\t<dd>0.146919431279621</dd>\n",
       "\t<dt>$recall</dt>\n",
       "\t\t<dd>0.586206896551724</dd>\n",
       "\t<dt>$precision</dt>\n",
       "\t\t<dd>0.472222222222222</dd>\n",
       "\t<dt>$null_error_rate</dt>\n",
       "\t\t<dd>0.772511848341232</dd>\n",
       "</dl>\n",
       "</li>\n",
       "</ol>\n"
      ],
      "text/latex": [
       "\\begin{enumerate}\n",
       "\\item \\begin{description}\n",
       "\\item[\\$accuracy] 0.853080568720379\n",
       "\\item[\\$misclassification\\_rate] 0.146919431279621\n",
       "\\item[\\$recall] 0.586206896551724\n",
       "\\item[\\$precision] 0.472222222222222\n",
       "\\item[\\$null\\_error\\_rate] 0.772511848341232\n",
       "\\end{description}\n",
       "\n",
       "\\end{enumerate}\n"
      ],
      "text/markdown": [
       "1. $accuracy\n",
       ":   0.853080568720379\n",
       "$misclassification_rate\n",
       ":   0.146919431279621\n",
       "$recall\n",
       ":   0.586206896551724\n",
       "$precision\n",
       ":   0.472222222222222\n",
       "$null_error_rate\n",
       ":   0.772511848341232\n",
       "\n",
       "\n",
       "\n",
       "\n",
       "\n"
      ],
      "text/plain": [
       "[[1]]\n",
       "[[1]]$accuracy\n",
       "[1] 0.8530806\n",
       "\n",
       "[[1]]$misclassification_rate\n",
       "[1] 0.1469194\n",
       "\n",
       "[[1]]$recall\n",
       "[1] 0.5862069\n",
       "\n",
       "[[1]]$precision\n",
       "[1] 0.4722222\n",
       "\n",
       "[[1]]$null_error_rate\n",
       "[1] 0.7725118\n",
       "\n"
      ]
     },
     "metadata": {},
     "output_type": "display_data"
    },
    {
     "name": "stdout",
     "output_type": "stream",
     "text": [
      "Recall for best model is  0.5862069 In an HR context, this is  58.62069 % more employees that could potentially be targeted prior to quiting.\n",
      "From that standpoint, an organization that loses 100 people per year could possibly target 59 employees by implementing measures to retain."
     ]
    }
   ],
   "source": [
    "# Performance analysis\n",
    "tn <- confusion_matrix[1]\n",
    "tp <- confusion_matrix[4]\n",
    "fp <- confusion_matrix[3]\n",
    "fn <- confusion_matrix[2]\n",
    "\n",
    "accuracy <- (tp + tn)/(tp + tn + fp + fn)\n",
    "misclassification_rate <- 1 - accuracy\n",
    "recall <- tp/(tp + fn)\n",
    "precision <- tp/(tp + fp)\n",
    "null_error_rate <- tn/(tp + tn + fp + fn)\n",
    "\n",
    "tibble(accuracy, misclassification_rate, recall, precision, null_error_rate) %>% \n",
    "    transpose()\n",
    "\n",
    "cat(\"Recall for best model is \", recall, \"In an HR context, this is \", (recall * \n",
    "    100), \"% more employees that could potentially be targeted prior to quiting.\n",
    "From that standpoint, an organization that loses 100 people per year could possibly target\", \n",
    "    ceiling(recall * 100), \"employees by implementing measures to retain.\")"
   ]
  },
  {
   "cell_type": "code",
   "execution_count": null,
   "metadata": {},
   "outputs": [],
   "source": []
  }
 ],
 "metadata": {
  "kernelspec": {
   "display_name": "R",
   "language": "R",
   "name": "ir"
  },
  "language_info": {
   "codemirror_mode": "r",
   "file_extension": ".r",
   "mimetype": "text/x-r-source",
   "name": "R",
   "pygments_lexer": "r",
   "version": "3.5.1"
  },
  "varInspector": {
   "cols": {
    "lenName": 16,
    "lenType": 16,
    "lenVar": 40
   },
   "kernels_config": {
    "python": {
     "delete_cmd_postfix": "",
     "delete_cmd_prefix": "del ",
     "library": "var_list.py",
     "varRefreshCmd": "print(var_dic_list())"
    },
    "r": {
     "delete_cmd_postfix": ") ",
     "delete_cmd_prefix": "rm(",
     "library": "var_list.r",
     "varRefreshCmd": "cat(var_dic_list()) "
    }
   },
   "types_to_exclude": [
    "module",
    "function",
    "builtin_function_or_method",
    "instance",
    "_Feature"
   ],
   "window_display": false
  }
 },
 "nbformat": 4,
 "nbformat_minor": 2
}
